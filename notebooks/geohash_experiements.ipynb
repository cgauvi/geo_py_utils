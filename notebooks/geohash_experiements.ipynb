{
 "cells": [
  {
   "cell_type": "markdown",
   "id": "fa65641e-d333-408d-96d3-c1bdec324f94",
   "metadata": {},
   "source": [
    "_author:_ Charles Gauvin\n",
    "\n",
    "_date:_ February 6 2023\n",
    "\n",
    "\n",
    "---\n",
    "\n",
    "Notebook to showcase some of the features of the geohash_utils module"
   ]
  },
  {
   "cell_type": "code",
   "execution_count": null,
   "id": "20bacf39-6eca-46d5-b178-42d6bfc44926",
   "metadata": {},
   "outputs": [],
   "source": [
    " "
   ]
  },
  {
   "cell_type": "markdown",
   "id": "f6b9f2f2-4c10-40ab-9cc8-c8e149836eb6",
   "metadata": {},
   "source": [
    "# Libs"
   ]
  },
  {
   "cell_type": "code",
   "execution_count": 1,
   "id": "0f97bb61-cb9c-4e70-9efb-7e7a9d972a47",
   "metadata": {},
   "outputs": [],
   "source": [
    "import os\n",
    "from os.path import abspath, join\n",
    "import sys\n",
    "path_geo_py_root = join(abspath(''), '..') # assumes geo_py_utils/notebook/geohash_experiements.ipynb\n",
    "sys.path.append(path_geo_py_root)"
   ]
  },
  {
   "cell_type": "code",
   "execution_count": null,
   "id": "3e3b1f29-447d-4309-a5d9-80c2d858feef",
   "metadata": {},
   "outputs": [],
   "source": [
    "\n"
   ]
  },
  {
   "cell_type": "code",
   "execution_count": 2,
   "id": "db06ae16-42b4-44ce-97b7-97465390b449",
   "metadata": {},
   "outputs": [],
   "source": [
    "import geohash \n",
    "import pandas as pd\n",
    "import numpy as np\n",
    "import geopandas as gpd\n",
    "\n",
    "from geo_py_utils.geo_general.bbox import get_list_coordinates_from_bbox, get_bbox_centroid\n",
    "from geo_py_utils.geo_general.geo_utils import get_geodataframe_from_list_coord\n",
    "from geo_py_utils.geo_general.map import map_simple\n",
    "from geo_py_utils.geo_general.geohash_utils import (\n",
    "    get_all_geohash_from_gdf,\n",
    "    get_all_geohash_from_geohash_indices,\n",
    "    recursively_partition_geohash_cells\n",
    ")\n",
    "from shapely.geometry import Point, Polygon\n"
   ]
  },
  {
   "cell_type": "code",
   "execution_count": 3,
   "id": "d5938355-f04d-4e90-acaa-17741c08ec6f",
   "metadata": {},
   "outputs": [],
   "source": [
    "GEOHASH_PRECISION = 6 # max geohash precision\n",
    "MAP_OUTPUT = False #show leaflets or not"
   ]
  },
  {
   "cell_type": "code",
   "execution_count": null,
   "id": "630f9887-22f1-4c51-81f2-c4ba011e5680",
   "metadata": {},
   "outputs": [],
   "source": []
  },
  {
   "cell_type": "markdown",
   "id": "f5deaff7-761b-43e7-b94c-3c88c0cf0eac",
   "metadata": {},
   "source": [
    "# First tests with geohashes"
   ]
  },
  {
   "cell_type": "code",
   "execution_count": 4,
   "id": "cbd666c6-bcc2-438d-9657-efbe0330d57a",
   "metadata": {},
   "outputs": [],
   "source": [
    "geohash_indices = ['f2k', 'f2m']\n",
    "prec = list(set([len(p) for p in geohash_indices]))[0]\n",
    "\n",
    "list_shp_children = []\n",
    "list_geo = []\n",
    "list_all_sub_geohash = []\n",
    "\n",
    "for ind in geohash_indices:\n",
    "        geo_shp_ = get_all_geohash_from_geohash_indices([ind])\n",
    "        geo_shp_['index'] = ind\n",
    "        list_geo.append(geo_shp_)\n",
    "\n",
    "        geo_shp_all_ = get_all_geohash_from_gdf(geo_shp_, precision=prec+1)\n",
    "        geo_shp_all_['parent'] = ind\n",
    "        list_all_sub_geohash.append(geo_shp_all_)\n",
    "\n",
    "        lng, lat = get_bbox_centroid(geo_shp_)\n",
    "        geohash_indices_children = [cell for cell in\n",
    "                                    geohash.neighbors(geohash.encode(lat, lng, precision=prec+1))]\n",
    "        geo_shp_children_ = get_all_geohash_from_geohash_indices(\n",
    "            geohash_indices_children)\n",
    "        geo_shp_children_['parent'] = ind\n",
    "        list_shp_children.append(geo_shp_children_)\n",
    "\n",
    "geo_shp = pd.concat(list_geo)\n",
    "geo_shp['parent_numeric'] = np.arange(geo_shp.shape[0])\n",
    "\n",
    "geo_shp_children = pd.concat(list_shp_children)\n",
    "geo_shp_children = geo_shp_children.merge(geo_shp[[\"index\", \"parent_numeric\"]],\n",
    "                                              left_on='parent', right_on='index')\n",
    "\n",
    "geo_shp_all = pd.concat(list_all_sub_geohash)\n",
    "geo_shp_all = geo_shp_all.merge(geo_shp[[\"index\", \"parent_numeric\"]],\n",
    "                                    left_on='parent', right_on='index')"
   ]
  },
  {
   "cell_type": "code",
   "execution_count": 5,
   "id": "ccb35993-ff12-4bbb-8e0b-4fcb652fe767",
   "metadata": {},
   "outputs": [],
   "source": [
    "if MAP_OUTPUT:\n",
    "    map_simple({'original': geo_shp,\n",
    "                    \"children\": geo_shp_children,\n",
    "                    'all sub geohash': geo_shp_all},\n",
    "                   column_color='parent_numeric',\n",
    "                   tootltip_fields=['parent_numeric'])\n"
   ]
  },
  {
   "cell_type": "code",
   "execution_count": null,
   "id": "8377f248-bb90-467f-b44c-e4eddce67489",
   "metadata": {},
   "outputs": [],
   "source": []
  },
  {
   "cell_type": "markdown",
   "id": "eccb76dd-7d2d-4966-ab0b-7a2ea9c4dd39",
   "metadata": {},
   "source": [
    "# Recursive partition"
   ]
  },
  {
   "cell_type": "code",
   "execution_count": 6,
   "id": "35eab938-e342-409f-b0d9-1772b80e6d84",
   "metadata": {},
   "outputs": [
    {
     "name": "stdout",
     "output_type": "stream",
     "text": [
      "Using the counts column for counts\n"
     ]
    },
    {
     "name": "stderr",
     "output_type": "stream",
     "text": [
      "/sidecar/home/charles.gauvin/Dev/GIC_VEXCEL/gic/geo_py_utils/notebooks/../geo_py_utils/geo_general/centroid.py:26: UserWarning: Geometry is in a geographic CRS. Results from 'centroid' are likely incorrect. Use 'GeoSeries.to_crs()' to re-project geometries to a projected CRS before this operation.\n",
      "\n",
      "  df_centroids = pd.DataFrame( [ (p.x,p.y) for p in shp.geometry.centroid])\n",
      "/sidecar/home/charles.gauvin/Dev/GIC_VEXCEL/gic/geo_py_utils/notebooks/../geo_py_utils/geo_general/centroid.py:26: UserWarning: Geometry is in a geographic CRS. Results from 'centroid' are likely incorrect. Use 'GeoSeries.to_crs()' to re-project geometries to a projected CRS before this operation.\n",
      "\n",
      "  df_centroids = pd.DataFrame( [ (p.x,p.y) for p in shp.geometry.centroid])\n",
      "/sidecar/home/charles.gauvin/Dev/GIC_VEXCEL/gic/geo_py_utils/notebooks/../geo_py_utils/geo_general/centroid.py:26: UserWarning: Geometry is in a geographic CRS. Results from 'centroid' are likely incorrect. Use 'GeoSeries.to_crs()' to re-project geometries to a projected CRS before this operation.\n",
      "\n",
      "  df_centroids = pd.DataFrame( [ (p.x,p.y) for p in shp.geometry.centroid])\n",
      "Warning! Reached the maximum number of iterations (given the max precision) without                creating a sufficiently precise geohash grid\n",
      "/sidecar/home/charles.gauvin/Dev/GIC_VEXCEL/gic/geo_py_utils/notebooks/../geo_py_utils/geo_general/geohash_utils.py:550: FutureWarning: The frame.append method is deprecated and will be removed from pandas in a future version. Use pandas.concat instead.\n",
      "  dict_layers[p].append(shp_count_by_hash_not_suff_precise)\n"
     ]
    }
   ],
   "source": [
    "shp_all_1 = gpd.GeoDataFrame(\n",
    "        {\n",
    "            'id': [0,1 ,2],\n",
    "            \"geometry\": [Point (-71.16451, 46.86968),   Point (-71.25148, 48.41987), Point (-71.25148, 48.419)\t], #slight tweak - same geohash \n",
    "            \"counts\": [1.0, 1.0, 1.0]\n",
    "    }   ,\n",
    "    crs = 4326\n",
    "    )\n",
    "\n",
    "shp_part, _ = recursively_partition_geohash_cells(shp_all_1,\n",
    "                                                  count_column_name='counts',\n",
    "                                                  min_num_points = 1,\n",
    "                                                  max_precision=4)"
   ]
  },
  {
   "cell_type": "code",
   "execution_count": 7,
   "id": "30935cfc-9442-4ea7-b9e4-387567211490",
   "metadata": {},
   "outputs": [
    {
     "data": {
      "text/html": [
       "<div>\n",
       "<style scoped>\n",
       "    .dataframe tbody tr th:only-of-type {\n",
       "        vertical-align: middle;\n",
       "    }\n",
       "\n",
       "    .dataframe tbody tr th {\n",
       "        vertical-align: top;\n",
       "    }\n",
       "\n",
       "    .dataframe thead th {\n",
       "        text-align: right;\n",
       "    }\n",
       "</style>\n",
       "<table border=\"1\" class=\"dataframe\">\n",
       "  <thead>\n",
       "    <tr style=\"text-align: right;\">\n",
       "      <th></th>\n",
       "      <th>index</th>\n",
       "      <th>geometry</th>\n",
       "      <th>geohash_index</th>\n",
       "      <th>counts</th>\n",
       "    </tr>\n",
       "  </thead>\n",
       "  <tbody>\n",
       "    <tr>\n",
       "      <th>5</th>\n",
       "      <td>5</td>\n",
       "      <td>POLYGON ((-71.71875 46.40625, -71.71875 47.812...</td>\n",
       "      <td>f2m</td>\n",
       "      <td>1.0</td>\n",
       "    </tr>\n",
       "    <tr>\n",
       "      <th>4</th>\n",
       "      <td>4</td>\n",
       "      <td>POLYGON ((-71.36719 48.33984, -71.36719 48.515...</td>\n",
       "      <td>f2t7</td>\n",
       "      <td>2.0</td>\n",
       "    </tr>\n",
       "  </tbody>\n",
       "</table>\n",
       "</div>"
      ],
      "text/plain": [
       "   index                                           geometry geohash_index  \\\n",
       "5      5  POLYGON ((-71.71875 46.40625, -71.71875 47.812...           f2m   \n",
       "4      4  POLYGON ((-71.36719 48.33984, -71.36719 48.515...          f2t7   \n",
       "\n",
       "   counts  \n",
       "5     1.0  \n",
       "4     2.0  "
      ]
     },
     "execution_count": 7,
     "metadata": {},
     "output_type": "execute_result"
    }
   ],
   "source": [
    "shp_part[shp_part.counts>0]"
   ]
  },
  {
   "cell_type": "code",
   "execution_count": null,
   "id": "34f24754-f7a8-4cc5-b5d7-7480fb2602c2",
   "metadata": {},
   "outputs": [],
   "source": []
  },
  {
   "cell_type": "code",
   "execution_count": null,
   "id": "e00b02e0-b6f0-452a-a4e3-7eb7e46ce57a",
   "metadata": {},
   "outputs": [],
   "source": []
  },
  {
   "cell_type": "code",
   "execution_count": 8,
   "id": "2c2f5b21-eaf5-4a57-bacf-e2b1bd018f95",
   "metadata": {},
   "outputs": [
    {
     "name": "stderr",
     "output_type": "stream",
     "text": [
      "Warning! Reached max geohahsh precision of 1 and the bounding box is still does not contained within a single geohash cell!\n",
      "Warning in add_geohash_index! geohash_index  already exists - dropping and repopulating\n",
      "Warning in add_geohash_index! geohash_index  already exists - dropping and repopulating\n",
      "Warning in add_geohash_index! geohash_index  already exists - dropping and repopulating\n",
      "Warning in add_geohash_index! geohash_index  already exists - dropping and repopulating\n"
     ]
    },
    {
     "name": "stdout",
     "output_type": "stream",
     "text": [
      "Using the counts column for counts\n"
     ]
    },
    {
     "name": "stderr",
     "output_type": "stream",
     "text": [
      "Warning in add_geohash_index! geohash_index  already exists - dropping and repopulating\n",
      "Warning in add_geohash_index! geohash_index  already exists - dropping and repopulating\n",
      "Warning in add_geohash_index! geohash_index  already exists - dropping and repopulating\n",
      "Warning! Reached the maximum number of iterations (given the max precision) without                creating a sufficiently precise geohash grid\n",
      "/sidecar/home/charles.gauvin/Dev/GIC_VEXCEL/gic/geo_py_utils/notebooks/../geo_py_utils/geo_general/geohash_utils.py:550: FutureWarning: The frame.append method is deprecated and will be removed from pandas in a future version. Use pandas.concat instead.\n",
      "  dict_layers[p].append(shp_count_by_hash_not_suff_precise)\n"
     ]
    }
   ],
   "source": [
    "shp_bug = gpd.GeoDataFrame(\n",
    "            {\n",
    "            'id' :[0\t,1,\t2\t,3],\n",
    "            'geohash_index' : [\"drgp\",\t\"drgr\",\t\"f0r9\",\t\"f0rb\"],\n",
    "            \"lat\" : [44.997203\t,44.996874\t,46.722120\t,46.521345],\n",
    "            \"lng\": [-74.349024,\t-74.084504,\t-79.103772\t,-78.868221],\n",
    "            'counts' : [134, 410, 119\t,59],\n",
    "            'geometry': [Point(-74.34902, 44.99720),Point(-74.08450,44.99687),Point(-79.10377,46.72212),Point(-78.86822,46.52135)]\n",
    "            },\n",
    "            crs = 4326          \n",
    ")\n",
    "    \n",
    "shp_part, _ = recursively_partition_geohash_cells(shp_bug,\n",
    "                                                    count_column_name='counts',\n",
    "                                                    min_num_points = 2)"
   ]
  },
  {
   "cell_type": "code",
   "execution_count": 9,
   "id": "5be94d29-bbc5-4944-8886-5658f61e6205",
   "metadata": {},
   "outputs": [
    {
     "data": {
      "text/plain": [
       "<AxesSubplot: >"
      ]
     },
     "execution_count": 9,
     "metadata": {},
     "output_type": "execute_result"
    },
    {
     "data": {
      "image/png": "[encoded data removed]",
      "text/plain": [
       "<Figure size 640x480 with 1 Axes>"
      ]
     },
     "metadata": {},
     "output_type": "display_data"
    }
   ],
   "source": [
    "ax = shp_bug.plot(column='counts', cmap='viridis')\n",
    "shp_part.plot(ax=ax,alpha=0.2,column='geohash_index')"
   ]
  },
  {
   "cell_type": "code",
   "execution_count": 10,
   "id": "db779260-3358-46ed-8e7a-5ba4048dd819",
   "metadata": {},
   "outputs": [
    {
     "data": {
      "text/html": [
       "<div>\n",
       "<style scoped>\n",
       "    .dataframe tbody tr th:only-of-type {\n",
       "        vertical-align: middle;\n",
       "    }\n",
       "\n",
       "    .dataframe tbody tr th {\n",
       "        vertical-align: top;\n",
       "    }\n",
       "\n",
       "    .dataframe thead th {\n",
       "        text-align: right;\n",
       "    }\n",
       "</style>\n",
       "<table border=\"1\" class=\"dataframe\">\n",
       "  <thead>\n",
       "    <tr style=\"text-align: right;\">\n",
       "      <th></th>\n",
       "      <th>index</th>\n",
       "      <th>geometry</th>\n",
       "      <th>geohash_index</th>\n",
       "      <th>counts</th>\n",
       "    </tr>\n",
       "  </thead>\n",
       "  <tbody>\n",
       "    <tr>\n",
       "      <th>0</th>\n",
       "      <td>0</td>\n",
       "      <td>POLYGON ((-67.50000 67.50000, -67.50000 73.125...</td>\n",
       "      <td>fs</td>\n",
       "      <td>0.0</td>\n",
       "    </tr>\n",
       "    <tr>\n",
       "      <th>1</th>\n",
       "      <td>1</td>\n",
       "      <td>POLYGON ((-78.75000 67.50000, -78.75000 73.125...</td>\n",
       "      <td>fk</td>\n",
       "      <td>0.0</td>\n",
       "    </tr>\n",
       "    <tr>\n",
       "      <th>2</th>\n",
       "      <td>2</td>\n",
       "      <td>POLYGON ((-56.25000 67.50000, -56.25000 73.125...</td>\n",
       "      <td>fu</td>\n",
       "      <td>0.0</td>\n",
       "    </tr>\n",
       "    <tr>\n",
       "      <th>3</th>\n",
       "      <td>3</td>\n",
       "      <td>POLYGON ((-67.50000 61.87500, -67.50000 67.500...</td>\n",
       "      <td>fe</td>\n",
       "      <td>0.0</td>\n",
       "    </tr>\n",
       "    <tr>\n",
       "      <th>4</th>\n",
       "      <td>4</td>\n",
       "      <td>POLYGON ((-78.75000 61.87500, -78.75000 67.500...</td>\n",
       "      <td>f7</td>\n",
       "      <td>0.0</td>\n",
       "    </tr>\n",
       "    <tr>\n",
       "      <th>...</th>\n",
       "      <td>...</td>\n",
       "      <td>...</td>\n",
       "      <td>...</td>\n",
       "      <td>...</td>\n",
       "    </tr>\n",
       "    <tr>\n",
       "      <th>127</th>\n",
       "      <td>31</td>\n",
       "      <td>POLYGON ((-74.35547 44.99863, -74.35547 45.000...</td>\n",
       "      <td>drgpupb</td>\n",
       "      <td>0.0</td>\n",
       "    </tr>\n",
       "    <tr>\n",
       "      <th>22</th>\n",
       "      <td>22</td>\n",
       "      <td>POLYGON ((-79.10431 46.72211, -79.10431 46.723...</td>\n",
       "      <td>f0r9zcw</td>\n",
       "      <td>119.0</td>\n",
       "    </tr>\n",
       "    <tr>\n",
       "      <th>60</th>\n",
       "      <td>28</td>\n",
       "      <td>POLYGON ((-78.86948 46.52023, -78.86948 46.521...</td>\n",
       "      <td>f0rbtkc</td>\n",
       "      <td>59.0</td>\n",
       "    </tr>\n",
       "    <tr>\n",
       "      <th>69</th>\n",
       "      <td>5</td>\n",
       "      <td>POLYGON ((-74.08493 44.99588, -74.08493 44.997...</td>\n",
       "      <td>drgrfpm</td>\n",
       "      <td>410.0</td>\n",
       "    </tr>\n",
       "    <tr>\n",
       "      <th>99</th>\n",
       "      <td>3</td>\n",
       "      <td>POLYGON ((-74.34998 44.99588, -74.34998 44.997...</td>\n",
       "      <td>drgpupk</td>\n",
       "      <td>134.0</td>\n",
       "    </tr>\n",
       "  </tbody>\n",
       "</table>\n",
       "<p>560 rows × 4 columns</p>\n",
       "</div>"
      ],
      "text/plain": [
       "     index                                           geometry geohash_index  \\\n",
       "0        0  POLYGON ((-67.50000 67.50000, -67.50000 73.125...            fs   \n",
       "1        1  POLYGON ((-78.75000 67.50000, -78.75000 73.125...            fk   \n",
       "2        2  POLYGON ((-56.25000 67.50000, -56.25000 73.125...            fu   \n",
       "3        3  POLYGON ((-67.50000 61.87500, -67.50000 67.500...            fe   \n",
       "4        4  POLYGON ((-78.75000 61.87500, -78.75000 67.500...            f7   \n",
       "..     ...                                                ...           ...   \n",
       "127     31  POLYGON ((-74.35547 44.99863, -74.35547 45.000...       drgpupb   \n",
       "22      22  POLYGON ((-79.10431 46.72211, -79.10431 46.723...       f0r9zcw   \n",
       "60      28  POLYGON ((-78.86948 46.52023, -78.86948 46.521...       f0rbtkc   \n",
       "69       5  POLYGON ((-74.08493 44.99588, -74.08493 44.997...       drgrfpm   \n",
       "99       3  POLYGON ((-74.34998 44.99588, -74.34998 44.997...       drgpupk   \n",
       "\n",
       "     counts  \n",
       "0       0.0  \n",
       "1       0.0  \n",
       "2       0.0  \n",
       "3       0.0  \n",
       "4       0.0  \n",
       "..      ...  \n",
       "127     0.0  \n",
       "22    119.0  \n",
       "60     59.0  \n",
       "69    410.0  \n",
       "99    134.0  \n",
       "\n",
       "[560 rows x 4 columns]"
      ]
     },
     "execution_count": 10,
     "metadata": {},
     "output_type": "execute_result"
    }
   ],
   "source": [
    "shp_part"
   ]
  },
  {
   "cell_type": "code",
   "execution_count": 11,
   "id": "ab7b711f-dc5c-42d1-9223-53f339280514",
   "metadata": {},
   "outputs": [],
   "source": [
    "if MAP_OUTPUT:\n",
    "    map_simple({'shp_part':shp_part})\n",
    " "
   ]
  },
  {
   "cell_type": "code",
   "execution_count": null,
   "id": "1bf23fb0-bfbb-46ca-bec5-1ebe0922a15a",
   "metadata": {},
   "outputs": [],
   "source": []
  }
 ],
 "metadata": {
  "kernelspec": {
   "display_name": "gic",
   "language": "python",
   "name": "gic_env"
  },
  "language_info": {
   "codemirror_mode": {
    "name": "ipython",
    "version": 3
   },
   "file_extension": ".py",
   "mimetype": "text/x-python",
   "name": "python",
   "nbconvert_exporter": "python",
   "pygments_lexer": "ipython3",
   "version": "3.9.13"
  }
 },
 "nbformat": 4,
 "nbformat_minor": 5
}
